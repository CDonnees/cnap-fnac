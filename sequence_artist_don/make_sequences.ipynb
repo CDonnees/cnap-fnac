{
 "cells": [
  {
   "cell_type": "markdown",
   "metadata": {},
   "source": [
    "# load csv file"
   ]
  },
  {
   "cell_type": "code",
   "execution_count": 110,
   "metadata": {
    "scrolled": true
   },
   "outputs": [],
   "source": [
    "import agate\n",
    "\n",
    "artworks = agate.Table.from_csv('uniq_artworks.csv')"
   ]
  },
  {
   "cell_type": "code",
   "execution_count": 83,
   "metadata": {},
   "outputs": [
    {
     "name": "stdout",
     "output_type": "stream",
     "text": [
      "| column                  | data_type |\n",
      "| ----------------------- | --------- |\n",
      "| _id                     | Number    |\n",
      "| acquisition_year        | Number    |\n",
      "| acquisition_mode        | Text      |\n",
      "| date_creation           | Text      |\n",
      "| type                    | Text      |\n",
      "| domain                  | Text      |\n",
      "| domain_leaf             | Text      |\n",
      "| domain_deno_for_grid    | Text      |\n",
      "| domain_description_mst  | Text      |\n",
      "| mst                     | Text      |\n",
      "| collection              | Text      |\n",
      "| collection_department   | Text      |\n",
      "| recap_authors           | Text      |\n",
      "| inventory               | Text      |\n",
      "| authors_list            | Text      |\n",
      "| authors_nationality     | Text      |\n",
      "| authors_birth_death     | Text      |\n",
      "| authors_name_complement | Text      |\n",
      "| title_notice            | Text      |\n",
      "| title_list              | Text      |\n",
      "| comments                | Text      |\n",
      "| recap_description       | Text      |\n",
      "| provenance              | Text      |\n",
      "| provenance_type         | Text      |\n",
      "| inscriptions            | Text      |\n",
      "| description             | Text      |\n",
      "\n"
     ]
    }
   ],
   "source": [
    "print(artworks)"
   ]
  },
  {
   "cell_type": "markdown",
   "metadata": {},
   "source": [
    "# Filter >= 1945 and sort by acquisition_year, acquisition_mode"
   ]
  },
  {
   "cell_type": "code",
   "execution_count": 111,
   "metadata": {},
   "outputs": [],
   "source": [
    "artworks = artworks.where(lambda row: row['acquisition_year'] >= 1945).order_by('acquisition_year')\n",
    "artworks_by_authors_list = artworks.group_by('acquisition_mode').aggregate([('occ',agate.Count())]).order_by('occ',True)"
   ]
  },
  {
   "cell_type": "code",
   "execution_count": 82,
   "metadata": {
    "scrolled": true
   },
   "outputs": [
    {
     "name": "stdout",
     "output_type": "stream",
     "text": [
      "| acquisition_mode     |    occ |\n",
      "| -------------------- | ------ |\n",
      "| Achat                | 27 368 |\n",
      "| Achat par commande   |  2 550 |\n",
      "| Don                  |  1 602 |\n",
      "| Achat en salon       |  1 498 |\n",
      "| Inscription à l'i... |  1 173 |\n",
      "| Donation             |    442 |\n",
      "| Achat en vente pu... |    168 |\n",
      "| Mode d'acquisitio... |     30 |\n",
      "| Attribution Minis... |     22 |\n",
      "| Achat par préemption |     11 |\n",
      "| Legs                 |     10 |\n",
      "| Mode d'acquisitio... |      6 |\n",
      "| Echange              |      5 |\n",
      "| Dation               |      4 |\n",
      "| Remplacement aprè... |      3 |\n",
      "| Achat par plusieu... |      1 |\n",
      "| Inscription à l'i... |      1 |\n"
     ]
    }
   ],
   "source": [
    "artworks_by_authors_list.limit(20).print_table()"
   ]
  },
  {
   "cell_type": "markdown",
   "metadata": {},
   "source": [
    "# Split artists groups"
   ]
  },
  {
   "cell_type": "code",
   "execution_count": 113,
   "metadata": {},
   "outputs": [
    {
     "name": "stdout",
     "output_type": "stream",
     "text": [
      "| authors_list         | occ |\n",
      "| -------------------- | --- |\n",
      "| JORN Asger (JORGE... |  90 |\n",
      "| CARZOU Jean (ZOUL... |  32 |\n",
      "| VILLON Jacques (D... |  30 |\n",
      "| MOON Sarah (HADEN... |  30 |\n",
      "| DELAUNAY Sonia (S... |  26 |\n",
      "| SALGADO Sebastiao... |  25 |\n",
      "| DI ROSA Hervé, DI... |  25 |\n",
      "| RENÉ-JACQUES (GIT... |  24 |\n",
      "| WEISS Sabine (WEB... |  23 |\n",
      "| AUJAME Jean (AUJA... |  22 |\n",
      "| SZAFRAN Sam (BERG... |  21 |\n",
      "| VOLTI (VOLTI Anto... |  20 |\n",
      "| LIPSI Morice (LIP... |  20 |\n",
      "| CHAUVIN (CHAUVIN ... |  20 |\n",
      "| SZÉKÉLY Véra (HAR... |  20 |\n",
      "| LOTIRON Robert (L... |  19 |\n",
      "| TAL-COAT (JACOB P... |  19 |\n",
      "| KRASNO Rodolfo (K... |  19 |\n",
      "| MODEL Lisette (SE... |  19 |\n",
      "| ARP Jean (ARP Han... |  18 |\n",
      "| ...                  | ... |\n",
      "multiple_artists legnth :3965\n",
      "new rows legnth :8238\n",
      "artworks before length :34894\n",
      "artworks after length :39121\n"
     ]
    }
   ],
   "source": [
    "multiple_artists = artworks.where(lambda row: row['authors_list'] and ',' in row['authors_list']).select(['acquisition_year','authors_list','acquisition_mode'])\n",
    "multiple_artists.group_by('authors_list').aggregate([('occ',agate.Count())]).order_by('occ',True).print_table()\n",
    "print(\"multiple_artists legnth :%s\"%len(multiple_artists.rows))\n",
    "splited_artists_groups = []\n",
    "for row in multiple_artists:\n",
    "    for a in row['authors_list'].split(','):\n",
    "        splited_artists_groups.append({\n",
    "            'authors_list': a,\n",
    "            'acquisition_mode': row['acquisition_mode'],\n",
    "            'acquisition_year': row['acquisition_year']\n",
    "        })\n",
    "new_rows = agate.Table.from_object(splited_artists_groups)\n",
    "print(\"new rows legnth :%s\"%len(new_rows.rows))\n",
    "print(\"artworks before length :%s\"%len(artworks.rows))\n",
    "artworks_single_authors = artworks.where(lambda row: row['authors_list'] and ',' not in row['authors_list']).select(['acquisition_year','authors_list','acquisition_mode'])\n",
    "artworks_single_authors = agate.Table.merge([artworks_single_authors,new_rows])\n",
    "print(\"artworks after length :%s\"%len(artworks_single_authors.rows))"
   ]
  },
  {
   "cell_type": "markdown",
   "metadata": {},
   "source": [
    "# group by artists and transform acquisition in letters"
   ]
  },
  {
   "cell_type": "code",
   "execution_count": 120,
   "metadata": {
    "scrolled": true
   },
   "outputs": [
    {
     "name": "stdout",
     "output_type": "stream",
     "text": [
      "| acquisition_sequence | occ |\n",
      "| -------------------- | --- |\n",
      "| C                    | 431 |\n",
      "| D                    | 211 |\n",
      "| AC                   |  79 |\n",
      "| CA                   |  63 |\n",
      "| CC                   |  51 |\n",
      "| AAC                  |  43 |\n",
      "| AAAC                 |  34 |\n",
      "| AD                   |  33 |\n",
      "| CAA                  |  32 |\n",
      "| DD                   |  32 |\n",
      "| ACA                  |  25 |\n",
      "| ACAA                 |  21 |\n",
      "| AAD                  |  21 |\n",
      "| AACA                 |  21 |\n",
      "| CCC                  |  20 |\n",
      "| DA                   |  20 |\n",
      "| DDD                  |  19 |\n",
      "| AAAAC                |  14 |\n",
      "| CAAAA                |  13 |\n",
      "| CAAA                 |  13 |\n",
      "| ...                  | ... |\n"
     ]
    }
   ],
   "source": [
    "artworks_by_authors_list = artworks.group_by('authors_list')\n",
    "\n",
    "renameAcquisitionName = {'Achat':'A','Achat par commande':'C','Don':'D','Donation':'D'}\n",
    "\n",
    "authors_list_acquisition_mode = artworks_by_authors_list.aggregate(\n",
    "    [(\"acquisition_sequence\",\n",
    "      agate.Summary(\"acquisition_mode\", agate.Text(),\n",
    "                    lambda col : ''.join([renameAcquisitionName[am] for am in col.values_without_nulls() if am in renameAcquisitionName]),False)\n",
    "     )]\n",
    ").where(lambda row : row['acquisition_sequence']and row['acquisition_sequence'] != '')\n",
    "\n",
    "authors_list_acquisition_mode.group_by('acquisition_sequence').aggregate([('occ',agate.Count())]).where(lambda row: row['acquisition_sequence'] and ('D' in row['acquisition_sequence'] or 'C' in row['acquisition_sequence']) ).order_by('occ',True).print_table()"
   ]
  },
  {
   "cell_type": "code",
   "execution_count": 118,
   "metadata": {},
   "outputs": [
    {
     "name": "stdout",
     "output_type": "stream",
     "text": [
      "| authors_list         | acquisition_sequence |\n",
      "| -------------------- | -------------------- |\n",
      "| COCHET Gérard        | AACAAAAAAAAAAAA      |\n",
      "| CAILLETTE René-Jean  | AAAA                 |\n",
      "| CAVAILLON Elisée     | AAAA                 |\n",
      "| ABBAL André          | AACAC                |\n",
      "| DEJEAN Louis         | CACCC                |\n",
      "| TOUSSAINT Gaston     | A                    |\n",
      "| DEBARRE Jean René    | AAA                  |\n",
      "| RIGAL André Louis... | A                    |\n",
      "| YENCESSE Ovide       | A                    |\n",
      "| D'AMBROSIO Louis     | A                    |\n",
      "| COULON Georges       | ACCC                 |\n",
      "| GIBERT Lucien        | ACCACA               |\n",
      "| RISPAL Gabriel       | CCCC                 |\n",
      "| JOACHIM Jean (JOA... | AACC                 |\n",
      "| LENOIR Pierre        | AC                   |\n",
      "| MARTIN Raymond       | ACCCCCA              |\n",
      "| GILI Marcel          | ACCAACAAAA           |\n",
      "| DELUOL André         | CAACCCCACA           |\n",
      "| CONDOY (GARCIA Ho... | CD                   |\n",
      "| COULON Raymond       | ACCC                 |\n",
      "| ...                  | ...                  |\n"
     ]
    }
   ],
   "source": [
    "authors_list_acquisition_mode.print_table()"
   ]
  }
 ],
 "metadata": {
  "kernelspec": {
   "display_name": "Python 3",
   "language": "python",
   "name": "python3"
  },
  "language_info": {
   "codemirror_mode": {
    "name": "ipython",
    "version": 3
   },
   "file_extension": ".py",
   "mimetype": "text/x-python",
   "name": "python",
   "nbconvert_exporter": "python",
   "pygments_lexer": "ipython3",
   "version": "3.4.3"
  }
 },
 "nbformat": 4,
 "nbformat_minor": 2
}
